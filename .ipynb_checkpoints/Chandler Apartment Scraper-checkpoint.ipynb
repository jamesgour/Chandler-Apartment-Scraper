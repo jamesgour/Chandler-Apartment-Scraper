{
 "cells": [
  {
   "cell_type": "code",
   "execution_count": 1,
   "metadata": {},
   "outputs": [],
   "source": [
    "from selenium import webdriver\n",
    "import pandas as pd\n",
    "from time import sleep\n",
    "import datetime\n",
    "from bs4 import BeautifulSoup\n",
    "import pynput.mouse as ms\n",
    "import pynput.keyboard as kb\n",
    "\n",
    "mouse = ms.Controller()\n",
    "keyboard = kb.Controller()"
   ]
  },
  {
   "cell_type": "code",
   "execution_count": 2,
   "metadata": {},
   "outputs": [
    {
     "name": "stdout",
     "output_type": "stream",
     "text": [
      "Loading Selenium Webdriver\n"
     ]
    }
   ],
   "source": [
    "# Load Selenium Webdriver\n",
    "driver = webdriver.Chrome(r'C:\\Users\\jcgou\\Desktop\\Chandler-Apartment-Scraper\\Chrome Driver\\chromedriver.exe')\n",
    "print('Loading Selenium Webdriver')"
   ]
  },
  {
   "cell_type": "code",
   "execution_count": 3,
   "metadata": {},
   "outputs": [],
   "source": [
    "# Create CSV file for the pricing information\n",
    "filename = 'Chandler Apartment Pricing.csv'\n",
    "f = open(filename, 'a')\n",
    "#headers = 'Date, Apartment Complex Name, Unit, Price\\n'\n",
    "#f.write(headers)"
   ]
  },
  {
   "cell_type": "code",
   "execution_count": 4,
   "metadata": {},
   "outputs": [
    {
     "name": "stdout",
     "output_type": "stream",
     "text": [
      "Today's date is: 2019-09-30\n"
     ]
    }
   ],
   "source": [
    "# Record Today's date\n",
    "date_object = datetime.date.today()\n",
    "print(\"Today's date is: \" + str(date_object))"
   ]
  },
  {
   "cell_type": "code",
   "execution_count": 5,
   "metadata": {},
   "outputs": [
    {
     "name": "stdout",
     "output_type": "stream",
     "text": [
      "Maximizing Chrome Driver\n"
     ]
    }
   ],
   "source": [
    "# Navigate to 1st Apartment website - San Brisas\n",
    "san_brisas_url = 'https://www.sanbrisasapts.com/floor-plans.aspx'\n",
    "driver.get(san_brisas_url)\n",
    "driver.maximize_window()\n",
    "print('Maximizing Chrome Driver')"
   ]
  },
  {
   "cell_type": "code",
   "execution_count": 6,
   "metadata": {},
   "outputs": [
    {
     "name": "stdout",
     "output_type": "stream",
     "text": [
      "San Brisas prices written\n"
     ]
    }
   ],
   "source": [
    "try:\n",
    "    # Save HTML and extract portfolio recommendation information\n",
    "    san_brisas_html = driver.page_source\n",
    "    san_brisas_soup = BeautifulSoup(san_brisas_html, 'lxml')\n",
    "\n",
    "    # Extract apartment A2 price\n",
    "    san_brisas_a2_price = san_brisas_soup.find(id = 'fp_6830196_range').get_text()\n",
    "    print(\"The San Brisas A2 price is currently \" + san_brisas_a2_price)\n",
    "    san_brisas_a2_price = san_brisas_a2_price.replace(',', '')\n",
    "    \n",
    "    # Write San Brisas prices to CSV file\n",
    "    f.write(str(date_object) + ',' + 'San Brisas' + ',' + 'A2' + ',' + str(san_brisas_a2_price) + '\\n')\n",
    "    print('San Brisas prices written')\n",
    "    \n",
    "except:\n",
    "    # Write San Brisas prices to CSV file\n",
    "    f.write(str(date_object) + ',' + 'San Brisas' + ',' + 'A2' + ',' + 'Error' + '\\n')\n",
    "    print('San Brisas prices written')\n"
   ]
  },
  {
   "cell_type": "code",
   "execution_count": 7,
   "metadata": {},
   "outputs": [
    {
     "name": "stdout",
     "output_type": "stream",
     "text": [
      "Navigating to next apartment, Country Brook\n"
     ]
    }
   ],
   "source": [
    "# Navigate to 2nd apartment website\n",
    "country_brook_url = 'https://countrybrook.mgproperties.com/brochure.aspx'\n",
    "driver.get(country_brook_url)\n",
    "print('Navigating to next apartment, Country Brook')"
   ]
  },
  {
   "cell_type": "code",
   "execution_count": 8,
   "metadata": {},
   "outputs": [],
   "source": [
    "# Save HTML and extract portfolio recommendation information\n",
    "country_brook_html = driver.page_source\n",
    "country_brook_soup = BeautifulSoup(country_brook_html, 'lxml')"
   ]
  },
  {
   "cell_type": "code",
   "execution_count": 11,
   "metadata": {},
   "outputs": [
    {
     "name": "stdout",
     "output_type": "stream",
     "text": [
      "The Country Brook prices are currently: \n",
      "{'A3': '$1,127 -to $1,386', 'A4': '$1,232 -to $1,455', 'A1': '$1,116 -to $1,422', 'A2': '$1,073 -to $1,386', 'B2': '$1,343 -to $1,826', 'B3': '$1,336 -to $1,771', 'B1': '$1,328 -to $1,858'}\n"
     ]
    }
   ],
   "source": [
    "unit_list = []\n",
    "price_list = []\n",
    "\n",
    "table = country_brook_soup.table\n",
    "table_rows = table.find_all('tr')\n",
    "for tr in table_rows[1:8]:\n",
    "    td = tr.find_all('td')\n",
    "    row = [i.text for i in td]\n",
    "    unit_list.append(row[1])\n",
    "    price_list.append(row[5])\n",
    "    #print(row)\n",
    "    \n",
    "final_unit_list = []\n",
    "    \n",
    "for i in unit_list:\n",
    "    final_unit_list.append(i.strip())\n",
    "\n",
    "country_brook_dict = dict(zip(final_unit_list, price_list))\n",
    "print(\"The Country Brook prices are currently: \")\n",
    "print(country_brook_dict)"
   ]
  },
  {
   "cell_type": "code",
   "execution_count": 12,
   "metadata": {},
   "outputs": [
    {
     "name": "stdout",
     "output_type": "stream",
     "text": [
      "Country Brook prices written\n"
     ]
    }
   ],
   "source": [
    "# Write Country Brook prices to CSV file\n",
    "\n",
    "cb_a1_price = country_brook_dict['A1'].replace(',','')\n",
    "cb_a2_price = country_brook_dict['A2'].replace(',','')\n",
    "cb_a3_price = country_brook_dict['A3'].replace(',','')\n",
    "cb_a4_price = country_brook_dict['A4'].replace(',','')\n",
    "cb_b1_price = country_brook_dict['B1'].replace(',','')\n",
    "cb_b2_price = country_brook_dict['B2'].replace(',','')\n",
    "\n",
    "f.write(str(date_object) + ',' + 'Country Brook' + ',' + 'A1' + ',' + str(cb_a1_price) + '\\n')\n",
    "f.write(str(date_object) + ',' + 'Country Brook' + ',' + 'A2' + ',' + str(cb_a2_price) + '\\n')\n",
    "f.write(str(date_object) + ',' + 'Country Brook' + ',' + 'A3' + ',' + str(cb_a3_price) + '\\n')\n",
    "f.write(str(date_object) + ',' + 'Country Brook' + ',' + 'A4' + ',' + str(cb_a4_price) + '\\n')\n",
    "f.write(str(date_object) + ',' + 'Country Brook' + ',' + 'B1' + ',' + str(cb_b1_price) + '\\n')\n",
    "f.write(str(date_object) + ',' + 'Country Brook' + ',' + 'B2' + ',' + str(cb_b2_price) + '\\n')\n",
    "print('Country Brook prices written')"
   ]
  },
  {
   "cell_type": "code",
   "execution_count": null,
   "metadata": {},
   "outputs": [],
   "source": [
    "# Navigate to 3rd apartment website\n",
    "san_tierra_url = 'https://www.liveatsantierra.com/floorplans'\n",
    "driver.get(san_tierra_url)\n",
    "print('Navigating to next apartment, San Tierra')"
   ]
  },
  {
   "cell_type": "code",
   "execution_count": null,
   "metadata": {},
   "outputs": [],
   "source": [
    "# Save HTML and extract portfolio recommendation information\n",
    "san_tierra_html = driver.page_source\n",
    "san_tierra_soup = BeautifulSoup(san_tierra_html, 'lxml')"
   ]
  },
  {
   "cell_type": "code",
   "execution_count": null,
   "metadata": {},
   "outputs": [],
   "source": [
    "# Extract apartment price 1 bed 1 bath 801 sqft\n",
    "san_tierra_1x1_price = san_tierra_soup.find(id = '2391451').get_text()\n",
    "san_tierra_1x1_price = san_tierra_1x1_price.split()\n",
    "san_tierra_1x1_part_a = san_tierra_1x1_price[0:6]\n",
    "\n",
    "san_tierra_1x1_part_a = \"\".join(san_tierra_1x1_price)[0:20]\n",
    "print(san_tierra_1x1_part_a)\n",
    "\n",
    "san_tierra_1x1_part_b = san_tierra_1x1_price[15]\n",
    "print(san_tierra_1x1_part_b)\n",
    "san_tierra_1x1_part_b = san_tierra_1x1_part_b.replace(',', '')\n",
    "san_tierra_1x1_part_b = san_tierra_1x1_part_b.replace('.00', '')"
   ]
  },
  {
   "cell_type": "code",
   "execution_count": null,
   "metadata": {},
   "outputs": [],
   "source": [
    "# Extract apartment price 2 bed 2 bath 1005 sqft\n",
    "san_tierra_2x2a_price = san_tierra_soup.find(id = '2391452').get_text()\n",
    "san_tierra_2x2a_price = san_tierra_2x2a_price.split()\n",
    "san_tierra_2x2a_part_a = san_tierra_2x2a_price[0:6]\n",
    "\n",
    "san_tierra_2x2a_part_a = \"\".join(san_tierra_2x2a_price)[0:20]\n",
    "print(san_tierra_2x2a_part_a)\n",
    "\n",
    "san_tierra_2x2a_part_b = san_tierra_2x2a_price[15]\n",
    "print(san_tierra_2x2a_part_b)\n",
    "san_tierra_2x2a_part_b = san_tierra_2x2a_part_b.replace(',', '')\n",
    "san_tierra_2x2a_part_b = san_tierra_2x2a_part_b.replace('.00', '')"
   ]
  },
  {
   "cell_type": "code",
   "execution_count": null,
   "metadata": {},
   "outputs": [],
   "source": [
    "# Extract apartment price 2 bed 2 bath 1050 sqft\n",
    "san_tierra_2x2b_price = san_tierra_soup.find(id = '2391453').get_text()\n",
    "san_tierra_2x2b_price = san_tierra_2x2b_price.split()\n",
    "san_tierra_2x2b_part_a = san_tierra_2x2b_price[0:6]\n",
    "\n",
    "san_tierra_2x2b_part_a = \"\".join(san_tierra_2x2b_price)[0:20]\n",
    "print(san_tierra_2x2b_part_a)\n",
    "\n",
    "san_tierra_2x2b_part_b = san_tierra_2x2b_price[15]\n",
    "print(san_tierra_2x2b_part_b)\n",
    "san_tierra_2x2b_part_b = san_tierra_2x2b_part_b.replace(',', '')\n",
    "san_tierra_2x2b_part_b = san_tierra_2x2b_part_b.replace('.00', '')"
   ]
  },
  {
   "cell_type": "code",
   "execution_count": null,
   "metadata": {},
   "outputs": [],
   "source": [
    "# Extract apartment price 2 bed 2 bath 1082 sqft\n",
    "san_tierra_2x2c_price = san_tierra_soup.find(id = '2391454').get_text()\n",
    "san_tierra_2x2c_price = san_tierra_2x2c_price.split()\n",
    "san_tierra_2x2c_part_a = san_tierra_2x2c_price[0:6]\n",
    "\n",
    "san_tierra_2x2c_part_a = \"\".join(san_tierra_2x2c_price)[0:20]\n",
    "print(san_tierra_2x2c_part_a)\n",
    "\n",
    "san_tierra_2x2c_part_b = san_tierra_2x2c_price[15]\n",
    "print(san_tierra_2x2a_part_b)\n",
    "san_tierra_2x2c_part_b = san_tierra_2x2c_part_b.replace(',', '')\n",
    "san_tierra_2x2c_part_b = san_tierra_2x2c_part_b.replace('.00', '')"
   ]
  },
  {
   "cell_type": "code",
   "execution_count": null,
   "metadata": {},
   "outputs": [],
   "source": [
    "# Write San Tierra prices to CSV file\n",
    "f.write(str(date_object) + ',' + 'San Tierra' + ',' + str(san_tierra_1x1_part_a) + ',' + str(san_tierra_1x1_part_b) + '\\n')\n",
    "f.write(str(date_object) + ',' + 'San Tierra' + ',' + str(san_tierra_2x2a_part_a) + ',' + str(san_tierra_2x2a_part_b) + '\\n')\n",
    "f.write(str(date_object) + ',' + 'San Tierra' + ',' + str(san_tierra_2x2b_part_a) + ',' + str(san_tierra_2x2b_part_b) + '\\n')\n",
    "f.write(str(date_object) + ',' + 'San Tierra' + ',' + str(san_tierra_2x2c_part_a) + ',' + str(san_tierra_2x2c_part_b) + '\\n')\n",
    "print('San Tierra prices written')"
   ]
  },
  {
   "cell_type": "code",
   "execution_count": null,
   "metadata": {},
   "outputs": [],
   "source": [
    "# Navigate to 4th apartment website\n",
    "reflections_gilasprings_url = 'https://www.reflectionsatgilasprings.com/floorplans'\n",
    "driver.get(reflections_gilasprings_url)\n",
    "print('Navigating to next apartment, Reflections at Gila Springs')"
   ]
  },
  {
   "cell_type": "code",
   "execution_count": null,
   "metadata": {},
   "outputs": [],
   "source": [
    "# Save HTML and extract portfolio recommendation information\n",
    "reflections_gilasprings_html = driver.page_source\n",
    "reflections_gilasprings_soup = BeautifulSoup(reflections_gilasprings_html, 'lxml')"
   ]
  },
  {
   "cell_type": "code",
   "execution_count": null,
   "metadata": {},
   "outputs": [],
   "source": [
    "# Extract apartment price 1 bed 1 bath 824 sqft\n",
    "reflections_1x1a_price = reflections_gilasprings_soup.find(id = '2421640').get_text()\n",
    "reflections_1x1a_price = reflections_1x1a_price.split()\n",
    "reflections_1x1a_part_a = reflections_1x1a_price[0:6]\n",
    "\n",
    "reflections_1x1a_part_a = \"\".join(reflections_1x1a_price)[0:20]\n",
    "print(reflections_1x1a_part_a)\n",
    "\n",
    "reflections_1x1a_part_b = reflections_1x1a_price[14]\n",
    "print(reflections_1x1a_part_b)\n",
    "reflections_1x1a_part_b = reflections_1x1a_part_b.replace(',', '')\n",
    "reflections_1x1a_part_b = reflections_1x1a_part_b.replace('.00', '')"
   ]
  },
  {
   "cell_type": "code",
   "execution_count": null,
   "metadata": {},
   "outputs": [],
   "source": [
    "# Extract apartment price 1 bed 1 bath 949 sqft\n",
    "reflections_1x1b_price = reflections_gilasprings_soup.find(id = '2421641').get_text()\n",
    "reflections_1x1b_price = reflections_1x1b_price.split()\n",
    "reflections_1x1b_part_a = reflections_1x1b_price[0:6]\n",
    "\n",
    "reflections_1x1b_part_a = \"\".join(reflections_1x1b_price)[0:20]\n",
    "print(reflections_1x1b_part_a)\n",
    "\n",
    "reflections_1x1b_part_b = reflections_1x1b_price[14]\n",
    "print(reflections_1x1b_part_b)\n",
    "reflections_1x1b_part_b = reflections_1x1b_part_b.replace(',', '')\n",
    "reflections_1x1b_part_b = reflections_1x1b_part_b.replace('.00', '')"
   ]
  },
  {
   "cell_type": "code",
   "execution_count": null,
   "metadata": {},
   "outputs": [],
   "source": [
    "# Extract apartment price 2 bed 2 bath 1186 sqft\n",
    "reflections_2x2a_price = reflections_gilasprings_soup.find(id = '2421643').get_text()\n",
    "reflections_2x2a_price = reflections_2x2a_price.split()\n",
    "reflections_2x2a_part_a = reflections_2x2a_price[0:6]\n",
    "\n",
    "reflections_2x2a_part_a = \"\".join(reflections_2x2a_price)[0:20]\n",
    "print(reflections_2x2a_part_a)\n",
    "\n",
    "reflections_2x2a_part_b = reflections_2x2a_price[14]\n",
    "print(reflections_2x2a_part_b)\n",
    "reflections_2x2a_part_b = reflections_2x2a_part_b.replace(',', '')\n",
    "reflections_2x2a_part_b = reflections_2x2a_part_b.replace('.00', '')"
   ]
  },
  {
   "cell_type": "code",
   "execution_count": null,
   "metadata": {},
   "outputs": [],
   "source": [
    "# Extract apartment price 2 bed 2 bath 1156 sqft\n",
    "reflections_2x2b_price = reflections_gilasprings_soup.find(id = '2421642').get_text()\n",
    "reflections_2x2b_price = reflections_2x2b_price.split()\n",
    "reflections_2x2b_part_a = reflections_2x2b_price[0:6]\n",
    "\n",
    "reflections_2x2b_part_a = \"\".join(reflections_2x2b_price)[0:20]\n",
    "print(reflections_2x2b_part_a)\n",
    "\n",
    "reflections_2x2b_part_b = reflections_2x2b_price[14]\n",
    "print(reflections_2x2b_part_b)\n",
    "reflections_2x2b_part_b = reflections_2x2b_part_b.replace(',', '')\n",
    "reflections_2x2b_part_b = reflections_2x2b_part_b.replace('.00', '')"
   ]
  },
  {
   "cell_type": "code",
   "execution_count": null,
   "metadata": {},
   "outputs": [],
   "source": [
    "# Write Reflections prices to CSV file\n",
    "f.write(str(date_object) + ',' + 'Reflections at Gila Springs' + ',' + str(reflections_1x1a_part_a) + ',' + str(reflections_1x1a_part_b) + '\\n')\n",
    "f.write(str(date_object) + ',' + 'Reflections at Gila Springs' + ',' + str(reflections_1x1b_part_a) + ',' + str(reflections_1x1b_part_b) + '\\n')\n",
    "f.write(str(date_object) + ',' + 'Reflections at Gila Springs' + ',' + str(reflections_2x2a_part_a) + ',' + str(reflections_2x2a_part_b) + '\\n')\n",
    "f.write(str(date_object) + ',' + 'Reflections at Gila Springs' + ',' + str(reflections_2x2b_part_a) + ',' + str(reflections_2x2b_part_b) + '\\n')\n",
    "print('Reflections at Gila Springs prices written')"
   ]
  },
  {
   "cell_type": "code",
   "execution_count": null,
   "metadata": {},
   "outputs": [],
   "source": [
    "# Navigate to 5th apartment website\n",
    "the_ventura_url = 'https://www.theventuraapts.com/Floor-plans.aspx'\n",
    "driver.get(the_ventura_url)\n",
    "print('Navigating to last apartment, The Ventura')"
   ]
  },
  {
   "cell_type": "code",
   "execution_count": null,
   "metadata": {},
   "outputs": [],
   "source": [
    "# Save HTML and extract portfolio recommendation information\n",
    "the_ventura_html = driver.page_source\n",
    "the_ventura_soup = BeautifulSoup(the_ventura_html, 'lxml')"
   ]
  },
  {
   "cell_type": "code",
   "execution_count": null,
   "metadata": {},
   "outputs": [],
   "source": [
    "# Extract apartment A1 price 1 bed 1 bath 798 sqft\n",
    "ventura_1x1_price = the_ventura_soup.find(id = 'floorplan_7459888').get_text()\n",
    "ventura_1x1_price = ventura_1x1_price.split()\n",
    "ventra_1x1_part_a = ventura_1x1_price[1:8]\n",
    "\n",
    "ventura_1x1_part_a = \"\".join(ventura_1x1_price)[12:33]\n",
    "print(ventura_1x1_part_a)\n",
    "\n",
    "ventura_1x1_part_b = ventura_1x1_price[10:13]\n",
    "ventura_1x1_part_b = \"\".join(ventura_1x1_part_b)\n",
    "ventura_1x1_part_b = ventura_1x1_part_b.replace(',','')\n",
    "print(ventura_1x1_part_b)"
   ]
  },
  {
   "cell_type": "code",
   "execution_count": null,
   "metadata": {},
   "outputs": [],
   "source": [
    "# Extract apartment B2 price 1 bed 1 bath 1039 sqft\n",
    "ventura_2x2_price = the_ventura_soup.find(id = 'floorplan_7459889').get_text()\n",
    "ventura_2x2_price = ventura_2x2_price.split()\n",
    "ventra_2x2_part_a = ventura_2x2_price[1:10]\n",
    "\n",
    "ventura_2x2_part_a = \"\".join(ventura_2x2_price)[12:35]\n",
    "ventura_2x2_part_a = ventura_2x2_part_a.replace(',','')\n",
    "print(ventura_2x2_part_a)\n",
    "\n",
    "ventura_2x2_part_b = ventura_2x2_price[10]\n",
    "ventura_2x2_part_b = ventura_2x2_part_b.replace(',', '')\n",
    "print(ventura_2x2_part_b)"
   ]
  },
  {
   "cell_type": "code",
   "execution_count": null,
   "metadata": {},
   "outputs": [],
   "source": [
    "# Write Ventura prices to CSV file\n",
    "f.write(str(date_object) + ',' + 'The Ventura' + ',' + str(ventura_1x1_part_a) + ',' + str(ventura_1x1_part_b) + '\\n')\n",
    "f.write(str(date_object) + ',' + 'The Ventura' + ',' + str(ventura_2x2_part_a) + ',' + str(ventura_2x2_part_b) + '\\n')\n",
    "print('The Ventura prices written')"
   ]
  },
  {
   "cell_type": "code",
   "execution_count": null,
   "metadata": {},
   "outputs": [],
   "source": [
    "print(\"Finished!\")\n",
    "exit()"
   ]
  }
 ],
 "metadata": {
  "kernelspec": {
   "display_name": "Python 3",
   "language": "python",
   "name": "python3"
  },
  "language_info": {
   "codemirror_mode": {
    "name": "ipython",
    "version": 3
   },
   "file_extension": ".py",
   "mimetype": "text/x-python",
   "name": "python",
   "nbconvert_exporter": "python",
   "pygments_lexer": "ipython3",
   "version": "3.6.5"
  }
 },
 "nbformat": 4,
 "nbformat_minor": 2
}
